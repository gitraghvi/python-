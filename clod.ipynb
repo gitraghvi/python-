{
 "cells": [
  {
   "cell_type": "code",
   "execution_count": 3,
   "metadata": {},
   "outputs": [],
   "source": [
    "import tkinter as tk\n",
    "import time\n",
    "\n",
    "def update_time():\n",
    "    current_time = time.strftime('%H:%M:%S')  \n",
    "    clock_label.config(text=current_time)    \n",
    "    root.after(1000, update_time)       \n",
    "\n",
    "\n",
    "root = tk.Tk()\n",
    "root.title('Digital Clock')\n",
    "\n",
    " \n",
    "clock_label = tk.Label(root, font=('calibri', 40, 'bold'), background='black', foreground='white')\n",
    "clock_label.pack(anchor='center')\n",
    "\n",
    "\n",
    "update_time()\n",
    "\n",
    "\n",
    "root.mainloop()\n"
   ]
  }
 ],
 "metadata": {
  "kernelspec": {
   "display_name": "Python 3",
   "language": "python",
   "name": "python3"
  },
  "language_info": {
   "codemirror_mode": {
    "name": "ipython",
    "version": 3
   },
   "file_extension": ".py",
   "mimetype": "text/x-python",
   "name": "python",
   "nbconvert_exporter": "python",
   "pygments_lexer": "ipython3",
   "version": "3.12.1"
  }
 },
 "nbformat": 4,
 "nbformat_minor": 2
}
